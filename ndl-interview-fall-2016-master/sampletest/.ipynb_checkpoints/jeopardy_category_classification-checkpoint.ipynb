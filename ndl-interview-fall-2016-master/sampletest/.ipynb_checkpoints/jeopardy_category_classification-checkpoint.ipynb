{
 "cells": [
  {
   "cell_type": "code",
   "execution_count": 1,
   "metadata": {
    "collapsed": false
   },
   "outputs": [],
   "source": [
    "import pandas as pd\n",
    "import numpy as np\n",
    "from sklearn.model_selection import GridSearchCV \n",
    "\n",
    "from nltk import wordpunct_tokenize as wt\n",
    "from nltk import WordNetLemmatizer\n",
    "\n",
    "from sklearn.feature_extraction.text import CountVectorizer\n",
    "from sklearn.preprocessing import LabelEncoder\n",
    "\n",
    "import string\n",
    "import re\n",
    "import json\n",
    "\n",
    "from sklearn.model_selection import cross_val_score\n",
    "from sklearn.model_selection import train_test_split\n",
    "\n",
    "from sklearn.naive_bayes import MultinomialNB\n",
    "from sklearn.dummy import DummyClassifier\n",
    "from sklearn.model_selection import cross_val_score\n",
    "from sklearn.metrics import confusion_matrix\n",
    "\n",
    "from sklearn.feature_extraction.text import TfidfTransformer\n",
    "\n",
    "import pylab\n",
    "import matplotlib.pyplot as plt"
   ]
  },
  {
   "cell_type": "code",
   "execution_count": 2,
   "metadata": {
    "collapsed": true
   },
   "outputs": [],
   "source": [
    " from sklearn.metrics import precision_recall_fscore_support"
   ]
  },
  {
   "cell_type": "code",
   "execution_count": 325,
   "metadata": {
    "collapsed": true
   },
   "outputs": [],
   "source": [
    "# the classification method that i'll be using.\n",
    "# from sklearn.naive_bayes import MultinomialNB"
   ]
  },
  {
   "cell_type": "code",
   "execution_count": 3,
   "metadata": {
    "collapsed": false
   },
   "outputs": [],
   "source": [
    "#jeopardy questions dataset's file path\n",
    "jq_json_path = \"../JEOPARDY_QUESTIONS.json\"\n",
    "with open(jq_json_path) as f:\n",
    "    data = json.load(f)\n",
    "f.close()\n",
    "#jeopardy dataset\n",
    "jd = pd.DataFrame(data)"
   ]
  },
  {
   "cell_type": "code",
   "execution_count": 808,
   "metadata": {
    "collapsed": false
   },
   "outputs": [],
   "source": [
    "def convert_value_to_int(x, translator):\n",
    "    if (x==None):\n",
    "        return x\n",
    "    return int(x.translate(translator))\n",
    "\n",
    "def tokenize(sent, translator):\n",
    "    #lower the terms.\n",
    "    return sent.lower().translate(translator)\n",
    "\n",
    "def preprocessing(df, punctuation=True, lower=True, stopwords=True):\n",
    "    #preprocess punctuations from categories, questions and answers.\n",
    "    lemmatizer = WordNetLemmatizer()\n",
    "    translator = str.maketrans('', '', string.punctuation)\n",
    "    df['question'] = df['question'].apply(lambda x: tokenize(x, translator))\n",
    "    df['answer'] = df['answer'].apply(lambda x: tokenize(x, translator))\n",
    "    #convert the values to actual integers\n",
    "    df['value'] = df['value'].apply(lambda x: convert_value_to_int(x, translator))\n",
    "    \n",
    "#     preprocess air date\n",
    "    df['air_date'] = df['air_date'].apply(lambda x: int(x.split('-')[0]))"
   ]
  },
  {
   "cell_type": "code",
   "execution_count": 256,
   "metadata": {
    "collapsed": true
   },
   "outputs": [],
   "source": [
    "def select_top_n_categories(df, n):\n",
    "    topic_list = df.groupby('category').size().sort_values(ascending=False)[:n].index.tolist()\n",
    "    df = df[df['category'].isin(topic_list)]\n",
    "    return df"
   ]
  },
  {
   "cell_type": "code",
   "execution_count": 304,
   "metadata": {
    "collapsed": true
   },
   "outputs": [],
   "source": [
    "def make_corpus(questions):\n",
    "    #make list of questions\n",
    "    return ' '.join(questions.tolist())\n",
    "    "
   ]
  },
  {
   "cell_type": "code",
   "execution_count": 809,
   "metadata": {
    "collapsed": false
   },
   "outputs": [],
   "source": [
    "#preprocessing question values and 'value' parameters to change it to 0.\n",
    "preprocessing(jd)"
   ]
  },
  {
   "cell_type": "code",
   "execution_count": 812,
   "metadata": {
    "collapsed": false
   },
   "outputs": [],
   "source": [
    "#get top 10 categories. Questions from this are going to be the basis for our dataset.\n",
    "jd_10 = select_top_n_categories(jd, 10)\n",
    "#This makes corpus which will be used by the x_train vectors.\n",
    "sent_corpus = jd_10['question'].tolist()\n",
    "\n",
    "#corpus where answers are concatenated before\n",
    "sent_corpus_answers = jd_10['answer'] + ' ' + jd_10['question']\n",
    "\n",
    "#corpus where questions are concatenated before\n",
    "sent_corpus_questions = jd_10['question'] + ' ' + jd_10['answer']\n",
    "\n",
    "#trial for final\n",
    "final_corpus = jd_10['answer'] + ' ' + jd_10['question'] + ' ' + jd_10['answer']\n",
    "\n",
    "#label encoder which will be used to convert categories into numerical class values. e.g, ['egg', 'ham', 'egg'] -> [0, 1, 0]\n",
    "lb = LabelEncoder()"
   ]
  },
  {
   "cell_type": "code",
   "execution_count": 483,
   "metadata": {
    "collapsed": true
   },
   "outputs": [],
   "source": [
    "def make_predictions(clf, x_tr, y_tr, x_te):\n",
    "    clf.fit(x_tr, y_tr)\n",
    "    pred = clf.predict(x_te)\n",
    "    "
   ]
  },
  {
   "cell_type": "code",
   "execution_count": 838,
   "metadata": {
    "collapsed": false
   },
   "outputs": [],
   "source": [
    "def countvectorizing(stopwords=True, min_df=1, ng=(1, 1)):\n",
    "    if(stopwords):\n",
    "        count_vect = CountVectorizer(ngram_range=ng, stop_words=\"english\", min_df=min_df)\n",
    "    else:\n",
    "        count_vect = CountVectorizer(ngram_range=ng, min_df=min_df)\n",
    "    return count_vect\n",
    "\n",
    "#1-gram\n",
    "#finds the optimal parameters\n",
    "def find_optimal_params(clf, corpus, params=None):\n",
    "    #the list of ngrams tested\n",
    "    ng_list = [(1,1), (1,2), (2,2)]\n",
    "    #to include stopwords or not:\n",
    "    stopword_list = [True, False]\n",
    "    \n",
    "    #best clf from grid search and its accuracy score, currently stored with dummy values.\n",
    "    best_clf = 0\n",
    "    best_score = [0, 0, 0, 0]\n",
    "    conf_matrix = []\n",
    "    \n",
    "    #best settings for countvectorizer which are initialized with dummy values\n",
    "    stopw = False\n",
    "    ng_val = (1,1)\n",
    "    results = []\n",
    "    for ngram in ng_list:\n",
    "        for stopword in stopword_list:\n",
    "            count_vect = countvectorizing(ng=ngram, stopwords=stopword)\n",
    "            x_value = count_vect.fit_transform(corpus)\n",
    "            y_value = lb.fit_transform(jd_10['category'].tolist())\n",
    "\n",
    "            X_train, X_test, y_train, y_test = train_test_split(x_value, y_value, test_size=0.2, random_state=33)\n",
    "            \n",
    "            #predictions, clf = make_predictions(clf, X_train, y_train, X_test)\n",
    "            # settings to test with tfidf_transformer: Performance was surprisingly bad with tf_idf so it is ommitted.\n",
    "            # tfidf_transformer = TfidfTransformer()\n",
    "            # x_tf_train = tfidf_transformer.fit_transform(x_value)\n",
    "            \n",
    "            #runs grid search on the passed classifier with its range of parameters\n",
    "            if (params!=None):\n",
    "                clf_grid = GridSearchCV(clf, params, cv=5)\n",
    "            else:\n",
    "                #just reset it as the baseline model.\n",
    "                clf_grid = clf\n",
    "            clf_grid.fit(X_train, y_train)\n",
    "            pred = clf_grid.predict(X_test)\n",
    "            \n",
    "            score = precision_recall_fscore_support(y_test, pred, average='weighted')\n",
    "            #score = clf_grid.score(X_test, y_test)\n",
    "            results.append((score, ngram, stopword))\n",
    "            #store the best classifier, its score, stopword setting and ngram values.\n",
    "            if (score[2]> best_score[2]):\n",
    "                best_score = score\n",
    "                best_clf = clf_grid\n",
    "                stopw = stopword\n",
    "                conf_matrix = confusion_matrix(y_test, pred)\n",
    "                ng_val = ngram\n",
    "    \n",
    "    #return the optimal classifiers and its attributes\n",
    "    return best_clf, [best_score, stopw, ng_val, conf_matrix], results"
   ]
  },
  {
   "cell_type": "code",
   "execution_count": 450,
   "metadata": {
    "collapsed": true
   },
   "outputs": [],
   "source": [
    "# splitting train test split\n",
    "# X_train, X_test, y_train, y_test = train_test_split(x_value, y_value, test_size=0.2, random_state=33)"
   ]
  },
  {
   "cell_type": "code",
   "execution_count": 821,
   "metadata": {
    "collapsed": false
   },
   "outputs": [
    {
     "name": "stdout",
     "output_type": "stream",
     "text": [
      "Running Dummy Classifier: \n",
      "Printing it's F1-score\n",
      "\n",
      "0.107268520308\n"
     ]
    }
   ],
   "source": [
    "baseline = DummyClassifier()\n",
    "print('Running Dummy Classifier: ')\n",
    "clf_base, baseline_attributes = find_optimal_params(baseline, sent_corpus_answers)\n",
    "\n",
    "print('Printing it\\'s F1-score\\n')\n",
    "print(baseline_attributes[0][2])\n",
    "#get the accuracy of random baseline\n",
    "# confMatrix = confusion_matrix(baselineP, y_test)\n",
    "# accuracy = baseline.score(X_test, y_test)"
   ]
  },
  {
   "cell_type": "code",
   "execution_count": 857,
   "metadata": {
    "collapsed": false
   },
   "outputs": [
    {
     "name": "stdout",
     "output_type": "stream",
     "text": [
      "Running Multinomial Naive Bayes. Testing for optimal paramater for alpha range of 0.1 to 2\n",
      "Best variant of the estimator is: MultinomialNB(alpha=0.70000000000000007, class_prior=None, fit_prior=True)\n",
      "With ngrams setting set to: (1, 2)\n",
      "With no removal of stopwords\n",
      "F1-Score: 0.663806943817\n",
      "\n"
     ]
    }
   ],
   "source": [
    "#alpha is the laplace bias\n",
    "parameters = {'alpha':np.arange(0.1, 2, 0.1)}\n",
    "print('Running Multinomial Naive Bayes. Testing for optimal paramater for alpha range of 0.1 to 2')\n",
    "mlb = MultinomialNB()\n",
    "# clf = GridSearchCV(mlb, parameters, cv=5)\n",
    "# clf.best_estimator_\n",
    "clf, attributes, mlb_results = find_optimal_params(mlb, trial_corpus, parameters)\n",
    "print('Best variant of the estimator is: ' + str(clf.best_estimator_))\n",
    "print('With ngrams setting set to: ' + str(attributes[2]))\n",
    "if (attributes[1]):\n",
    "    print('With removal of stopwords')\n",
    "else:\n",
    "    print('With no removal of stopwords')\n",
    "print('F1-Score: '+str(attributes[0][2]) +'\\n')\n",
    "\n",
    "#potential logistic regression and linear svm models to test on\n",
    "# log = linear_model.LogisticRegression(C=3)\n",
    "\n",
    "# lsvm = svm.SVC(C=1, kernel='linear')"
   ]
  },
  {
   "cell_type": "code",
   "execution_count": 837,
   "metadata": {
    "collapsed": false
   },
   "outputs": [
    {
     "data": {
      "text/plain": [
       "[(0.67229061733193318, 0.67784431137724555, 0.65973000450787711, None),\n",
       " False,\n",
       " (1, 2),\n",
       " array([[63,  0,  2,  3,  1,  3,  4,  1,  0,  2],\n",
       "        [10, 58,  1,  3,  7,  3,  4,  6,  1,  3],\n",
       "        [ 3,  0, 68,  0,  0,  0,  0,  0,  0,  0],\n",
       "        [13,  0,  0, 18,  2,  0,  4,  0,  0, 29],\n",
       "        [ 1,  3,  0,  1, 92,  1,  3,  0,  1,  2],\n",
       "        [ 7,  1,  4,  2, 11, 15, 22,  4, 11,  8],\n",
       "        [ 5,  0,  0,  1,  4,  6, 83,  0,  6,  0],\n",
       "        [ 1,  0,  1,  2,  0,  5,  3, 53,  3,  2],\n",
       "        [ 1,  0,  0,  0,  2,  1,  1,  1, 79,  0],\n",
       "        [13,  0,  0, 15,  2,  1,  6,  0,  0, 37]], dtype=int64)]"
      ]
     },
     "execution_count": 837,
     "metadata": {},
     "output_type": "execute_result"
    }
   ],
   "source": [
    "attributes"
   ]
  },
  {
   "cell_type": "code",
   "execution_count": 714,
   "metadata": {
    "collapsed": false
   },
   "outputs": [],
   "source": [
    "topic_list = lb.inverse_transform(list(range(0,10)))"
   ]
  },
  {
   "cell_type": "code",
   "execution_count": 684,
   "metadata": {
    "collapsed": false
   },
   "outputs": [],
   "source": [
    "# in quesstion\n",
    "# jd_10['air_date'] = jd_10['air_date'].apply(lambda x: int(x.split('-')[0]))"
   ]
  },
  {
   "cell_type": "code",
   "execution_count": 715,
   "metadata": {
    "collapsed": true
   },
   "outputs": [],
   "source": [
    "def filter_air_dates(df, topic_list):\n",
    "    \n",
    "    #calculate the total_index\n",
    "    total_index = df.groupby('air_date').size().index\n",
    "    \n",
    "    length = len(total_index)\n",
    "    topic_counts = []\n",
    "    for i in range(len(topic_list)):\n",
    "        df_series = df[df['category']==topic_list[i]].groupby('air_date').size()\n",
    "        df_index = df_series.index\n",
    "        \n",
    "        starterm = 0\n",
    "        endterm = 0\n",
    "        count = []\n",
    "        for i in range(int(length/5)+1):\n",
    "            starterm = 1*endterm\n",
    "            endterm = starterm+5\n",
    "            valid_indexes = []\n",
    "            if endterm < length:\n",
    "                valid_indexes = [x for x in df_index if x <= total_index[endterm-1] and x >= total_index[starterm]]\n",
    "            else:\n",
    "                valid_indexes = [x for x in df_index if x <= total_index[-1] and x >= total_index[starterm]]\n",
    "            \n",
    "            count.append(sum(df_series[valid_indexes]))\n",
    "        topic_counts.append(count)\n",
    "    plotting_indexes = [str(total_index[i-5])+'-'+str(total_index[i-1]) for i in range(5, len(total_index), 5)]\n",
    "    plotting_indexes.append((str(total_index[25])+'-'+str(total_index[-1])))\n",
    "    return topic_counts, plotting_indexes\n",
    "            \n",
    "        "
   ]
  },
  {
   "cell_type": "code",
   "execution_count": 673,
   "metadata": {
    "collapsed": false
   },
   "outputs": [],
   "source": [
    "topic_counts, plotting_index = filter_air_dates(jd_10, topic_list)"
   ]
  },
  {
   "cell_type": "code",
   "execution_count": 676,
   "metadata": {
    "collapsed": false
   },
   "outputs": [],
   "source": [
    "def plot_range_of_years_graph(topic_counts, label, plotting_index, x_axis=list(range(1,7)), size=(8,6)):\n",
    "    x_axis = list(range(1, 7))\n",
    "    for i in range(len(topic_counts)):\n",
    "        pylab.plot(x_axis, topic_counts[i], 'o')\n",
    "    pylab.legend(label)\n",
    "    pylab.title('Variation in Number Of Questions Vs Range of Years by Category')\n",
    "    pylab.xlabel('Range Of Years')\n",
    "    pylab.ylabel('Number Of Questions')\n",
    "    pylab.xticks(x_axis, plotting_index)\n",
    "    pylab.figure(figsize=size)\n",
    "    pylab.show()"
   ]
  },
  {
   "cell_type": "code",
   "execution_count": 683,
   "metadata": {
    "collapsed": false
   },
   "outputs": [
    {
     "data": {
      "image/png": "[encoded data removed]",
      "text/plain": [
       "<matplotlib.figure.Figure at 0x1b84b9f4cc0>"
      ]
     },
     "metadata": {},
     "output_type": "display_data"
    },
    {
     "data": {
      "text/plain": [
       "<matplotlib.figure.Figure at 0x1b84b683a20>"
      ]
     },
     "metadata": {},
     "output_type": "display_data"
    }
   ],
   "source": [
    "pylab.figure(figsize=(10,8))\n",
    "plot_range_of_years_graph(topic_counts, topic_list, plotting_index, size=(12,10))"
   ]
  },
  {
   "cell_type": "code",
   "execution_count": 725,
   "metadata": {
    "collapsed": true
   },
   "outputs": [],
   "source": [
    "def calculate_average_words(df):\n",
    "    df['word_count'] = df['question'].apply(lambda x: len(wt(x)))\n",
    "    results = df.groupby('category')['word_count'].sum()/df.groupby('category').size()\n",
    "    return results"
   ]
  },
  {
   "cell_type": "code",
   "execution_count": 726,
   "metadata": {
    "collapsed": false
   },
   "outputs": [
    {
     "name": "stderr",
     "output_type": "stream",
     "text": [
      "C:\\Users\\abhi1\\Anaconda3\\lib\\site-packages\\ipykernel\\__main__.py:2: SettingWithCopyWarning: \n",
      "A value is trying to be set on a copy of a slice from a DataFrame.\n",
      "Try using .loc[row_indexer,col_indexer] = value instead\n",
      "\n",
      "See the caveats in the documentation: http://pandas.pydata.org/pandas-docs/stable/indexing.html#indexing-view-versus-copy\n",
      "  from ipykernel import kernelapp as app\n"
     ]
    }
   ],
   "source": [
    "average_word_count = calculate_average_words(jd_10)"
   ]
  },
  {
   "cell_type": "code",
   "execution_count": 732,
   "metadata": {
    "collapsed": false
   },
   "outputs": [
    {
     "name": "stdout",
     "output_type": "stream",
     "text": [
      "Average Word Count\n",
      "\n",
      "category\n",
      "AMERICAN HISTORY           15.956938\n",
      "BEFORE & AFTER             12.546618\n",
      "COLLEGES & UNIVERSITIES    14.615385\n",
      "HISTORY                    15.083095\n",
      "LITERATURE                 14.812500\n",
      "POTPOURRI                  15.259352\n",
      "SCIENCE                    15.533719\n",
      "SPORTS                     15.421053\n",
      "WORD ORIGINS               15.867925\n",
      "WORLD HISTORY              15.442971\n",
      "dtype: float64\n"
     ]
    }
   ],
   "source": [
    "print('Average Word Count\\n')\n",
    "print(average_word_count)"
   ]
  },
  {
   "cell_type": "code",
   "execution_count": 754,
   "metadata": {
    "collapsed": false
   },
   "outputs": [],
   "source": [
    "# final_sample = jd_10[['question', 'category']]\n",
    "\n",
    "# final_sample['in or not'] = [1 if 'my' in words else 0 for words in final_sample['question'].apply(lambda x: x.split(' '))]\n",
    "\n",
    "# final_sample.groupby('category')['in or not'].sum()"
   ]
  },
  {
   "cell_type": "code",
   "execution_count": null,
   "metadata": {
    "collapsed": true
   },
   "outputs": [],
   "source": [
    "#possible investigations for the classes, is to see which ones are the most frequent depending on time periods\n",
    "\n",
    "#Average Number of words per category (Number of words/Number of rows)\n",
    "#Why was the answer feature not used? Hard to model it with a two gram model, "
   ]
  }
 ],
 "metadata": {
  "kernelspec": {
   "display_name": "Python 3",
   "language": "python",
   "name": "python3"
  },
  "language_info": {
   "codemirror_mode": {
    "name": "ipython",
    "version": 3
   },
   "file_extension": ".py",
   "mimetype": "text/x-python",
   "name": "python",
   "nbconvert_exporter": "python",
   "pygments_lexer": "ipython3",
   "version": "3.6.0"
  }
 },
 "nbformat": 4,
 "nbformat_minor": 2
}
